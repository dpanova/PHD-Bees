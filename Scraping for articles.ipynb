{
 "cells": [
  {
   "cell_type": "markdown",
   "metadata": {},
   "source": [
    "**the goal of this notebook is to srape all articles which we can use as 'experts' to evaluate if the events in the hive are harmful**  \n",
    "we will focus our attention to key words - 'bee' & 'acoustic' "
   ]
  },
  {
   "cell_type": "markdown",
   "metadata": {},
   "source": [
    "# load libraries"
   ]
  },
  {
   "cell_type": "code",
   "execution_count": 1,
   "metadata": {
    "ExecuteTime": {
     "end_time": "2024-03-15T05:47:44.913484Z",
     "start_time": "2024-03-15T05:47:44.522889Z"
    }
   },
   "outputs": [],
   "source": [
    "from selenium import webdriver\n",
    "from selenium.webdriver.support.ui import WebDriverWait\n",
    "from selenium.webdriver.common.by import By\n",
    "import pandas as pd\n",
    "from random import randint\n",
    "from time import sleep\n",
    "#from selenium_stealth import stealth\n",
    "import glob\n",
    "import os"
   ]
  },
  {
   "cell_type": "markdown",
   "metadata": {},
   "source": [
    "# Initiate the Chrome Driver"
   ]
  },
  {
   "cell_type": "markdown",
   "metadata": {},
   "source": [
    "username and password for the website"
   ]
  },
  {
   "cell_type": "code",
   "execution_count": 2,
   "metadata": {
    "ExecuteTime": {
     "end_time": "2024-03-15T05:48:18.818625Z",
     "start_time": "2024-03-15T05:48:18.816167Z"
    }
   },
   "outputs": [],
   "source": [
    "username = \"2239079053@shu.bg\"\n",
    "password = \"BSru%SQ@trZz&nS26$cJ\""
   ]
  },
  {
   "cell_type": "markdown",
   "metadata": {},
   "source": [
    "initiate the driver"
   ]
  },
  {
   "cell_type": "code",
   "outputs": [],
   "source": [
    "from selenium import webdriver\n",
    "from selenium.webdriver.chrome.service import Service"
   ],
   "metadata": {
    "collapsed": false,
    "ExecuteTime": {
     "end_time": "2024-03-15T14:19:33.132565Z",
     "start_time": "2024-03-15T14:19:33.128822Z"
    }
   },
   "execution_count": 11
  },
  {
   "cell_type": "code",
   "outputs": [
    {
     "data": {
      "text/plain": "'/mnt/c/Users/Deni/PycharmProjects/AcousticData'"
     },
     "execution_count": 15,
     "metadata": {},
     "output_type": "execute_result"
    }
   ],
   "source": [
    "import os\n",
    "os.getcwd()"
   ],
   "metadata": {
    "collapsed": false,
    "ExecuteTime": {
     "end_time": "2024-03-15T14:21:32.742016Z",
     "start_time": "2024-03-15T14:21:32.736745Z"
    }
   },
   "execution_count": 15
  },
  {
   "cell_type": "code",
   "execution_count": 21,
   "metadata": {
    "ExecuteTime": {
     "end_time": "2024-03-15T14:25:06.194220Z",
     "start_time": "2024-03-15T14:25:06.167461Z"
    }
   },
   "outputs": [
    {
     "ename": "NoSuchDriverException",
     "evalue": "Message: Unable to locate or obtain driver for firefox; For documentation on this error, please visit: https://www.selenium.dev/documentation/webdriver/troubleshooting/errors/driver_location\n",
     "output_type": "error",
     "traceback": [
      "\u001B[0;31m---------------------------------------------------------------------------\u001B[0m",
      "\u001B[0;31mNoSuchDriverException\u001B[0m                     Traceback (most recent call last)",
      "Cell \u001B[0;32mIn[21], line 2\u001B[0m\n\u001B[1;32m      1\u001B[0m service \u001B[38;5;241m=\u001B[39m webdriver\u001B[38;5;241m.\u001B[39mFirefoxService(executable_path\u001B[38;5;241m=\u001B[39m\u001B[38;5;124mr\u001B[39m\u001B[38;5;124m\"\u001B[39m\u001B[38;5;124mgeckodriver-v0.34.0-linux64/geckodriver.exe\u001B[39m\u001B[38;5;124m\"\u001B[39m)\n\u001B[0;32m----> 2\u001B[0m driver \u001B[38;5;241m=\u001B[39m \u001B[43mwebdriver\u001B[49m\u001B[38;5;241;43m.\u001B[39;49m\u001B[43mFirefox\u001B[49m\u001B[43m(\u001B[49m\u001B[43mservice\u001B[49m\u001B[38;5;241;43m=\u001B[39;49m\u001B[43mservice\u001B[49m\u001B[43m)\u001B[49m\n",
      "File \u001B[0;32m~/.venv/lib/python3.10/site-packages/selenium/webdriver/firefox/webdriver.py:59\u001B[0m, in \u001B[0;36mWebDriver.__init__\u001B[0;34m(self, options, service, keep_alive)\u001B[0m\n\u001B[1;32m     56\u001B[0m \u001B[38;5;28mself\u001B[39m\u001B[38;5;241m.\u001B[39mservice \u001B[38;5;241m=\u001B[39m service \u001B[38;5;28;01mif\u001B[39;00m service \u001B[38;5;28;01melse\u001B[39;00m Service()\n\u001B[1;32m     57\u001B[0m options \u001B[38;5;241m=\u001B[39m options \u001B[38;5;28;01mif\u001B[39;00m options \u001B[38;5;28;01melse\u001B[39;00m Options()\n\u001B[0;32m---> 59\u001B[0m \u001B[38;5;28mself\u001B[39m\u001B[38;5;241m.\u001B[39mservice\u001B[38;5;241m.\u001B[39mpath \u001B[38;5;241m=\u001B[39m \u001B[43mDriverFinder\u001B[49m\u001B[38;5;241;43m.\u001B[39;49m\u001B[43mget_path\u001B[49m\u001B[43m(\u001B[49m\u001B[38;5;28;43mself\u001B[39;49m\u001B[38;5;241;43m.\u001B[39;49m\u001B[43mservice\u001B[49m\u001B[43m,\u001B[49m\u001B[43m \u001B[49m\u001B[43moptions\u001B[49m\u001B[43m)\u001B[49m\n\u001B[1;32m     60\u001B[0m \u001B[38;5;28mself\u001B[39m\u001B[38;5;241m.\u001B[39mservice\u001B[38;5;241m.\u001B[39mstart()\n\u001B[1;32m     62\u001B[0m executor \u001B[38;5;241m=\u001B[39m FirefoxRemoteConnection(\n\u001B[1;32m     63\u001B[0m     remote_server_addr\u001B[38;5;241m=\u001B[39m\u001B[38;5;28mself\u001B[39m\u001B[38;5;241m.\u001B[39mservice\u001B[38;5;241m.\u001B[39mservice_url,\n\u001B[1;32m     64\u001B[0m     keep_alive\u001B[38;5;241m=\u001B[39mkeep_alive,\n\u001B[1;32m     65\u001B[0m     ignore_proxy\u001B[38;5;241m=\u001B[39moptions\u001B[38;5;241m.\u001B[39m_ignore_local_proxy,\n\u001B[1;32m     66\u001B[0m )\n",
      "File \u001B[0;32m~/.venv/lib/python3.10/site-packages/selenium/webdriver/common/driver_finder.py:44\u001B[0m, in \u001B[0;36mDriverFinder.get_path\u001B[0;34m(service, options)\u001B[0m\n\u001B[1;32m     41\u001B[0m     \u001B[38;5;28;01mraise\u001B[39;00m NoSuchDriverException(msg) \u001B[38;5;28;01mfrom\u001B[39;00m \u001B[38;5;21;01merr\u001B[39;00m\n\u001B[1;32m     43\u001B[0m \u001B[38;5;28;01mif\u001B[39;00m path \u001B[38;5;129;01mis\u001B[39;00m \u001B[38;5;28;01mNone\u001B[39;00m \u001B[38;5;129;01mor\u001B[39;00m \u001B[38;5;129;01mnot\u001B[39;00m Path(path)\u001B[38;5;241m.\u001B[39mis_file():\n\u001B[0;32m---> 44\u001B[0m     \u001B[38;5;28;01mraise\u001B[39;00m NoSuchDriverException(\u001B[38;5;124mf\u001B[39m\u001B[38;5;124m\"\u001B[39m\u001B[38;5;124mUnable to locate or obtain driver for \u001B[39m\u001B[38;5;132;01m{\u001B[39;00moptions\u001B[38;5;241m.\u001B[39mcapabilities[\u001B[38;5;124m'\u001B[39m\u001B[38;5;124mbrowserName\u001B[39m\u001B[38;5;124m'\u001B[39m]\u001B[38;5;132;01m}\u001B[39;00m\u001B[38;5;124m\"\u001B[39m)\n\u001B[1;32m     46\u001B[0m \u001B[38;5;28;01mreturn\u001B[39;00m path\n",
      "\u001B[0;31mNoSuchDriverException\u001B[0m: Message: Unable to locate or obtain driver for firefox; For documentation on this error, please visit: https://www.selenium.dev/documentation/webdriver/troubleshooting/errors/driver_location\n"
     ]
    }
   ],
   "source": [
    "service = webdriver.FirefoxService(executable_path=r\"geckodriver-v0.34.0-linux64/geckodriver.exe\")\n",
    "driver = webdriver.Firefox(service=service)"
   ]
  },
  {
   "cell_type": "markdown",
   "metadata": {},
   "source": [
    "navigate to the research gate login website"
   ]
  },
  {
   "cell_type": "code",
   "execution_count": 6,
   "metadata": {},
   "outputs": [],
   "source": [
    "driver.get(\"https://www.researchgate.net/login?_sg=ITbsht6C-ko8ZSF49e9deV1BNgFqKApIltdEguj_4uiZ9K_WzI6gYtnTL5xsgogphkn5Z2RJTNuYqd9fMiGJfg\")"
   ]
  },
  {
   "cell_type": "markdown",
   "metadata": {},
   "source": [
    "find the accept button"
   ]
  },
  {
   "cell_type": "code",
   "execution_count": 7,
   "metadata": {},
   "outputs": [],
   "source": [
    "driver.find_element(By.CLASS_NAME, \"css-1u05hh5\").click()"
   ]
  },
  {
   "cell_type": "markdown",
   "metadata": {},
   "source": [
    "add username and password "
   ]
  },
  {
   "cell_type": "code",
   "execution_count": 7,
   "metadata": {},
   "outputs": [],
   "source": [
    "uname = driver.find_element(\"id\", \"input-login\") \n",
    "uname.send_keys(username)\n"
   ]
  },
  {
   "cell_type": "code",
   "execution_count": 8,
   "metadata": {},
   "outputs": [],
   "source": [
    "pword = driver.find_element(\"id\", \"input-password\") \n",
    "pword.send_keys(password)"
   ]
  },
  {
   "cell_type": "markdown",
   "metadata": {},
   "source": [
    "click log in "
   ]
  },
  {
   "cell_type": "code",
   "execution_count": 9,
   "metadata": {},
   "outputs": [],
   "source": [
    "driver.find_element(By.XPATH, '//button[@type=\"submit\"]').click()"
   ]
  },
  {
   "cell_type": "markdown",
   "metadata": {},
   "source": [
    "# Search the key works"
   ]
  },
  {
   "cell_type": "code",
   "execution_count": 10,
   "metadata": {},
   "outputs": [],
   "source": [
    "search = driver.find_element('name','query')"
   ]
  },
  {
   "cell_type": "code",
   "execution_count": 11,
   "metadata": {},
   "outputs": [],
   "source": [
    "search.send_keys('bee acoustic')"
   ]
  },
  {
   "cell_type": "code",
   "outputs": [],
   "source": [
    "search.send_keys('bee acoustic machine learning')"
   ],
   "metadata": {
    "collapsed": false
   }
  },
  {
   "cell_type": "code",
   "execution_count": 12,
   "metadata": {},
   "outputs": [],
   "source": [
    "driver.find_element(By.XPATH, '//button[@type=\"submit\"]').click() #find button"
   ]
  },
  {
   "cell_type": "markdown",
   "metadata": {},
   "source": [
    "click full text only "
   ]
  },
  {
   "cell_type": "code",
   "execution_count": 13,
   "metadata": {},
   "outputs": [],
   "source": [
    "driver.find_element(By.CLASS_NAME,'fulltext-availability-switch').click()"
   ]
  },
  {
   "cell_type": "markdown",
   "metadata": {},
   "source": [
    "# Iterate over the search results "
   ]
  },
  {
   "cell_type": "markdown",
   "metadata": {},
   "source": [
    "after we arrived at the search page, we will need to iterate over all result pages and get the title,the url, the the authors, the date of publishing, the category, the type of the publication, the abstract and if the full text is available.  "
   ]
  },
  {
   "cell_type": "code",
   "execution_count": 15,
   "metadata": {},
   "outputs": [],
   "source": [
    "df = pd.read_csv('bee_acoustic_scraped.csv')"
   ]
  },
  {
   "cell_type": "code",
   "execution_count": 17,
   "metadata": {},
   "outputs": [
    {
     "data": {
      "text/html": [
       "<div>\n",
       "<style scoped>\n",
       "    .dataframe tbody tr th:only-of-type {\n",
       "        vertical-align: middle;\n",
       "    }\n",
       "\n",
       "    .dataframe tbody tr th {\n",
       "        vertical-align: top;\n",
       "    }\n",
       "\n",
       "    .dataframe thead th {\n",
       "        text-align: right;\n",
       "    }\n",
       "</style>\n",
       "<table border=\"1\" class=\"dataframe\">\n",
       "  <thead>\n",
       "    <tr style=\"text-align: right;\">\n",
       "      <th></th>\n",
       "      <th>Title</th>\n",
       "      <th>URL</th>\n",
       "      <th>Authors</th>\n",
       "      <th>Date</th>\n",
       "      <th>Left Category</th>\n",
       "      <th>Right Category</th>\n",
       "      <th>Abstract</th>\n",
       "      <th>Footer</th>\n",
       "      <th>File Name</th>\n",
       "      <th>File</th>\n",
       "    </tr>\n",
       "  </thead>\n",
       "  <tbody>\n",
       "    <tr>\n",
       "      <th>574</th>\n",
       "      <td>Complex Source Distributions in Wave-based Vir...</td>\n",
       "      <td>https://www.researchgate.net/publication/37329...</td>\n",
       "      <td>Stefan Bilbao</td>\n",
       "      <td>Aug 2023</td>\n",
       "      <td>Full-text available;Conference Paper</td>\n",
       "      <td>Internoise 2023</td>\n",
       "      <td>In the typical scenario in time-domain wave-ba...</td>\n",
       "      <td>;53 Reads</td>\n",
       "      <td>NaN</td>\n",
       "      <td>C:\\Users\\dpanova\\Downloads\\C000699.pdf</td>\n",
       "    </tr>\n",
       "    <tr>\n",
       "      <th>575</th>\n",
       "      <td>The Philippines stingless bee propolis promote...</td>\n",
       "      <td>https://www.researchgate.net/publication/36496...</td>\n",
       "      <td>Yulan Tang;Chen Wang;Mark Joseph Maranan Desam...</td>\n",
       "      <td>Oct 2022</td>\n",
       "      <td>Full-text available;Article</td>\n",
       "      <td>NaN</td>\n",
       "      <td>Although hair loss is not a horrible disease, ...</td>\n",
       "      <td>;67 Reads;2 Citations</td>\n",
       "      <td>NaN</td>\n",
       "      <td>C:\\Users\\dpanova\\Downloads\\The_Philippines_sti...</td>\n",
       "    </tr>\n",
       "    <tr>\n",
       "      <th>576</th>\n",
       "      <td>Bee-associated fungi mediate effects of fungic...</td>\n",
       "      <td>https://www.researchgate.net/publication/35440...</td>\n",
       "      <td>Danielle Rutkowski;Eliza Litsey;Isabelle Maalo...</td>\n",
       "      <td>Sep 2021</td>\n",
       "      <td>File available;Preprint</td>\n",
       "      <td>NaN</td>\n",
       "      <td>Bumble bees are important pollinators that fac...</td>\n",
       "      <td>2 Recommendations;112 Reads;1 Citation</td>\n",
       "      <td>NaN</td>\n",
       "      <td>C:\\Users\\dpanova\\Downloads\\Bee-associated_fung...</td>\n",
       "    </tr>\n",
       "    <tr>\n",
       "      <th>577</th>\n",
       "      <td>Burzyan population of the dark forest honey be...</td>\n",
       "      <td>https://www.researchgate.net/publication/35753...</td>\n",
       "      <td>Rustem A. Ilyasov</td>\n",
       "      <td>Jan 2022</td>\n",
       "      <td>Full-text available;Article</td>\n",
       "      <td>NaN</td>\n",
       "      <td>Ilyasov, R., 2021. Burzyan population of the d...</td>\n",
       "      <td>;137 Reads;1 Citation</td>\n",
       "      <td>NaN</td>\n",
       "      <td>C:\\Users\\dpanova\\Downloads\\Ilyasov_2021_Burzya...</td>\n",
       "    </tr>\n",
       "    <tr>\n",
       "      <th>578</th>\n",
       "      <td>A paediatric case of exercise-augmented anaphy...</td>\n",
       "      <td>https://www.researchgate.net/publication/36207...</td>\n",
       "      <td>Zhi Xiang Leang;Meera Thalayasingam;Michael O’...</td>\n",
       "      <td>Jul 2022</td>\n",
       "      <td>Full-text available;Article</td>\n",
       "      <td>NaN</td>\n",
       "      <td>Bee pollen is becoming an increasingly popular...</td>\n",
       "      <td>;5 Reads;2 Citations</td>\n",
       "      <td>NaN</td>\n",
       "      <td>C:\\Users\\dpanova\\Downloads\\Ilyasov_2021_Burzya...</td>\n",
       "    </tr>\n",
       "  </tbody>\n",
       "</table>\n",
       "</div>"
      ],
      "text/plain": [
       "                                                 Title  \\\n",
       "574  Complex Source Distributions in Wave-based Vir...   \n",
       "575  The Philippines stingless bee propolis promote...   \n",
       "576  Bee-associated fungi mediate effects of fungic...   \n",
       "577  Burzyan population of the dark forest honey be...   \n",
       "578  A paediatric case of exercise-augmented anaphy...   \n",
       "\n",
       "                                                   URL  \\\n",
       "574  https://www.researchgate.net/publication/37329...   \n",
       "575  https://www.researchgate.net/publication/36496...   \n",
       "576  https://www.researchgate.net/publication/35440...   \n",
       "577  https://www.researchgate.net/publication/35753...   \n",
       "578  https://www.researchgate.net/publication/36207...   \n",
       "\n",
       "                                               Authors      Date  \\\n",
       "574                                      Stefan Bilbao  Aug 2023   \n",
       "575  Yulan Tang;Chen Wang;Mark Joseph Maranan Desam...  Oct 2022   \n",
       "576  Danielle Rutkowski;Eliza Litsey;Isabelle Maalo...  Sep 2021   \n",
       "577                                  Rustem A. Ilyasov  Jan 2022   \n",
       "578  Zhi Xiang Leang;Meera Thalayasingam;Michael O’...  Jul 2022   \n",
       "\n",
       "                            Left Category   Right Category  \\\n",
       "574  Full-text available;Conference Paper  Internoise 2023   \n",
       "575           Full-text available;Article              NaN   \n",
       "576               File available;Preprint              NaN   \n",
       "577           Full-text available;Article              NaN   \n",
       "578           Full-text available;Article              NaN   \n",
       "\n",
       "                                              Abstract  \\\n",
       "574  In the typical scenario in time-domain wave-ba...   \n",
       "575  Although hair loss is not a horrible disease, ...   \n",
       "576  Bumble bees are important pollinators that fac...   \n",
       "577  Ilyasov, R., 2021. Burzyan population of the d...   \n",
       "578  Bee pollen is becoming an increasingly popular...   \n",
       "\n",
       "                                     Footer  File Name  \\\n",
       "574                               ;53 Reads        NaN   \n",
       "575                   ;67 Reads;2 Citations        NaN   \n",
       "576  2 Recommendations;112 Reads;1 Citation        NaN   \n",
       "577                   ;137 Reads;1 Citation        NaN   \n",
       "578                    ;5 Reads;2 Citations        NaN   \n",
       "\n",
       "                                                  File  \n",
       "574             C:\\Users\\dpanova\\Downloads\\C000699.pdf  \n",
       "575  C:\\Users\\dpanova\\Downloads\\The_Philippines_sti...  \n",
       "576  C:\\Users\\dpanova\\Downloads\\Bee-associated_fung...  \n",
       "577  C:\\Users\\dpanova\\Downloads\\Ilyasov_2021_Burzya...  \n",
       "578  C:\\Users\\dpanova\\Downloads\\Ilyasov_2021_Burzya...  "
      ]
     },
     "execution_count": 17,
     "metadata": {},
     "output_type": "execute_result"
    }
   ],
   "source": [
    "df.tail()"
   ]
  },
  {
   "cell_type": "code",
   "execution_count": 17,
   "metadata": {},
   "outputs": [],
   "source": [
    "# create a data frame which will store all of that information\n",
    "#df = pd.DataFrame(columns = ['Title','URL','Authors','Date','Left Category','Right Category','Abstract', 'Footer','File Name'])"
   ]
  },
  {
   "cell_type": "code",
   "execution_count": 18,
   "metadata": {},
   "outputs": [],
   "source": [
    "#we will loop overt the results of the first main page first \n",
    "result_items = driver.find_elements(By.CLASS_NAME,'search-box__result-item')"
   ]
  },
  {
   "cell_type": "code",
   "execution_count": 20,
   "metadata": {},
   "outputs": [
    {
     "name": "stdout",
     "output_type": "stream",
     "text": [
      "Nature‐inspired artificial bee colony‐based hyperparameter optimization of CNN for anomaly detection in induction motor\n",
      "The Acoustic Emission in the Nest of the Honey Bee Depending on the Extreme Weather Conditions\n"
     ]
    }
   ],
   "source": [
    "for result in result_items[8:]:\n",
    "    #access the inner item for each result\n",
    "    items = result.find_elements(By.CLASS_NAME, 'nova-legacy-v-publication-item__stack-item')\n",
    "    \n",
    "    #get the title from the first tile\n",
    "    title = items[0].find_element(By.XPATH,'div//a').text \n",
    "    print(title)\n",
    "    \n",
    "    #get the url \n",
    "    url = items[0].find_element(By.XPATH,'div//a').get_attribute('href') \n",
    "    \n",
    "    #get the left categories \n",
    "    temp_left = items[1].find_elements(By.CLASS_NAME,'nova-legacy-v-publication-item__meta-left')\n",
    "    \n",
    "    #since it may have more than one left category, we will iterate over it\n",
    "    if len(temp_left) >1:\n",
    "        left_list = []\n",
    "        for i in range(len(temp_left)):\n",
    "            left_list.append(temp_left[i].text)\n",
    "        left = ';'.join(left_list)\n",
    "    else: \n",
    "        left = temp_left[0].text\n",
    "    \n",
    "    #get the date \n",
    "    temp_right = items[1].find_elements(By.CLASS_NAME,'nova-legacy-v-publication-item__meta-right')\n",
    "    date = temp_right[0].find_elements(By.XPATH, 'ul//li')[0].text\n",
    "    \n",
    "    #get the right category\n",
    "    cat = temp_right[0].find_elements(By.XPATH, 'ul//li')\n",
    "    if len(cat)==1:\n",
    "        right = ''\n",
    "    else: \n",
    "        right_list = []\n",
    "        for i in range(1,len(cat)):\n",
    "            right_list.append(cat[i].text)\n",
    "        right = ';'.join(right_list)\n",
    "    \n",
    "    #get the authors \n",
    "    authors_list = items[2].find_elements(By.XPATH,'ul//li//a//span')\n",
    "    if len(authors_list) >1:\n",
    "        temp_authors_list = []\n",
    "        for author in authors_list:\n",
    "            if len(author.text)>0:\n",
    "                temp_authors_list.append(author.text)\n",
    "        author = ';'.join(temp_authors_list)\n",
    "    else: \n",
    "        author = authors_list[0].text\n",
    "    \n",
    "    #get the abstract \n",
    "    abstract = items[3].text\n",
    "    \n",
    "    #get the footer \n",
    "    footer_box = result.find_element(By.CLASS_NAME,'nova-legacy-v-publication-item__footer-metrics')\n",
    "    footer_list = []\n",
    "    footer_items = footer_box.find_elements(By.XPATH,'ul//li')\n",
    "    for f in footer_items: \n",
    "        footer_list.append(f.text)\n",
    "    footer = ';'.join(footer_list)\n",
    "    \n",
    "    #download \n",
    "    #click the download button \n",
    "    result.find_elements(By.CLASS_NAME,'nova-legacy-c-button-group__item')[0].click()\n",
    "    #find the file name\n",
    "    sleep(randint(30,60))\n",
    "    list_of_files = glob.glob('C:\\\\Users\\\\dpanova\\\\Downloads\\\\*')\n",
    "    latest_file = max(list_of_files, key=os.path.getctime)\n",
    "    \n",
    "    \n",
    "    #append the results to the DF \n",
    "    page_dict = { 'Title':[title],\n",
    "            'URL':[url],\n",
    "            'Authors':[author],\n",
    "            'Date':[date],\n",
    "            'Left Category':[left],\n",
    "            'Right Category':[right],\n",
    "            'Abstract':[abstract],\n",
    "            'Footer':[footer],\n",
    "                 'File':[latest_file]\n",
    "                 \n",
    "        }\n",
    "    page_df = pd.DataFrame(page_dict)\n",
    "    df = pd.concat([df,page_df],ignore_index=True)"
   ]
  },
  {
   "cell_type": "markdown",
   "metadata": {},
   "source": [
    "## iterate over all 100 pages "
   ]
  },
  {
   "cell_type": "code",
   "execution_count": 18,
   "metadata": {},
   "outputs": [],
   "source": [
    "current_url = driver.current_url"
   ]
  },
  {
   "cell_type": "code",
   "execution_count": 20,
   "metadata": {},
   "outputs": [],
   "source": [
    "main_url = current_url+ '&limit=10&offset='+ str(10)"
   ]
  },
  {
   "cell_type": "code",
   "execution_count": 21,
   "metadata": {},
   "outputs": [],
   "source": [
    "driver.get(main_url)"
   ]
  },
  {
   "cell_type": "code",
   "execution_count": 22,
   "metadata": {},
   "outputs": [],
   "source": [
    "result_items = driver.find_elements(By.CLASS_NAME,'search-box__result-item')"
   ]
  },
  {
   "cell_type": "code",
   "execution_count": 26,
   "metadata": {},
   "outputs": [
    {
     "name": "stdout",
     "output_type": "stream",
     "text": [
      "https://www.researchgate.net/search.Search.html?query=bee+acoustic&type=publication&subfilter%5Bfulltext%5D=ft&limit=10&offset=770\n",
      "EFFECT OF GLOBAL ACCELERATION IN THE ACOUSTIC RESPONSE OF PREMIXED FLAME AND ANALYSIS OF ACOUSTIC INSTABILITY OF COMBUSTION CHAMBER\n",
      "A global review of determinants of native bee assemblages in urbanised landscapes\n",
      "Effect of a modulated acoustic field on the dynamics of a vibrating charged bubble\n",
      "Channel Emulator Framework for Underwater Acoustic Communications\n",
      "Assessment of Environmental Acoustic Levels of Some Churches in Uyo Metropolis, Nigeria\n",
      "\"The effects of supplementary pollen diets on population, growth, and performance of honey bee \"\n",
      "Acoustic Signals and Behavior of the Invasive Freshwater Crayfish Cherax destructor (Clark, 1936)\n",
      "Relationship among five‐factor personality traits and psychological distress with acoustic analysis\n",
      "Exposure to sublethal concentration of flupyradifurone alters sexual behavior and cuticular hydrocarbon profile in Heriades truncorum, an oligolectic solitary bee\n",
      "Malaysian Journal of Microbiology Published by Malaysian Society for Microbiology Effect of symbiotic bee fungus on survival of stingless bee Heterotrigona itama larvae\n",
      "https://www.researchgate.net/search.Search.html?query=bee+acoustic&type=publication&subfilter%5Bfulltext%5D=ft&limit=10&offset=780\n",
      "Acoustic Property of NBRRI Interlocking Compressed Stabilized Earth Blocks (ICSEB): A Sustainable Alternative for Building Materials\n",
      "Experimental Study on the Mechanical Properties and Acoustic Emission Characteristics of Different Bedding High-Rank Coals\n",
      "Acoustic Wake-Up Technology for Microsystems: A Review\n",
      "Virus Prevalence in Egg Samples Collected from Naturally Selected and Traditionally Managed Honey Bee Colonies across Europe\n",
      "CITY AS A CINEMATIC TEXT AND THE PLACE OF WANDERING CHARACTERS: VISUAL AND ACOUSTIC POETRY\n",
      "High resolution prediction maps of solitary bee diversity can guide conservation measures\n",
      "PRODUCTION PERFORMANCE AND VARIOUS IMPORTANT BEHAVIORS PERFORMED BY THE Apis mellifera scutellata BEE RACE\n",
      "Comparison of queen honey bee colony migration with various MPPTs on photovoltaic system under shaded conditions\n",
      "Recruitment Behaviour in an African Meliponine Bee Species (hymenoptera, Apidae: Meliponini): Understanding Glandular Origin and Pheromonal Components\n",
      "Glass Ceiling or Queen Bee Syndrome? A Study on Five Star Accommodation Businesses\n",
      "https://www.researchgate.net/search.Search.html?query=bee+acoustic&type=publication&subfilter%5Bfulltext%5D=ft&limit=10&offset=790\n",
      "The Rise and Fall of Aural Acoustic Immittance Assessment Tools\n",
      "Utility of carbon and nitrogen stable isotopes for inferring wild bee (Hymenoptera: Apoidea) use of adjacent foraging habitats\n",
      "To bee or not to bee: The potential efficacy and safety of bee venom acupuncture in humans\n",
      "The gravitational bending of acoustic Schwarzschild black hole\n",
      "An acoustic feedback canceller using probe noise and informative data\n",
      "Improved Artificial Bee Colony Algorithm with Adaptive Parameter for Numerical Optimization\n",
      "Transient ischemic liver injury and respiratory failure in a COVID-19-positive patient after multiple bee stings\n",
      "Monitoring Sea Currents with Midrange Acoustic Backscattering\n",
      "Urban landscapes affect wild bee maternal investment and body size\n",
      "On enhancing the noise-reduction performance of the acoustic lined duct utilizing the phase-modulating metasurface\n",
      "https://www.researchgate.net/search.Search.html?query=bee+acoustic&type=publication&subfilter%5Bfulltext%5D=ft&limit=10&offset=800\n",
      "Electrode Effects in mmWave Frequency Multilayer Bulk Acoustic Wave Resonators\n",
      "Thermally Activated Crack Growth and Fracture Toughness Evaluation of Pipeline Steels Using Acoustic Emission\n",
      "Lithium chloride treatments in free flying honey bee colonies: efficacy, brood survival and within colony distribution\n",
      "Broadband low frequency noise attenuation using thin acoustic metamaterials for aircraft cabin noise mitigation\n",
      "Current Status of Beekeeping in Ethiopia and Its Future Prospects\n",
      "Acoustic effects of changes in moisture content (MC) in CLT\n",
      "P475 Bee health and the antifungal activity of honey\n",
      "Survey Results of Honey Bee Colony Losses in Winter in China (2009–2021)\n",
      "Software-algorithmic System for Locating and Processing Acoustic Emission\n",
      "Initiation and Implementation of Honey Bee Breeding Programs\n",
      "https://www.researchgate.net/search.Search.html?query=bee+acoustic&type=publication&subfilter%5Bfulltext%5D=ft&limit=10&offset=810\n",
      "Delivery mechanism can enhance probiotic activity against honey bee pathogens\n",
      "Environmental exposure to metallic pollution impairs honey bee brain development and cognition\n",
      "Processing Technologies for Bee Products: An Overview of Recent Developments and Perspectives\n",
      "13. The Acoustic Analysis of Violins and the Artistic Impressions Evaluated by Musicians\n",
      "Honey Bee Nutrition\n",
      "Underwater acoustic metamaterials\n",
      "α-Amylase Inhibition Properties of Bee Pollen and Bee Bread (Perga)\n",
      "Effect of tube pitch ratio of in-line tube banks on acoustic resonance and vortex shedding\n",
      "Design and Acoustic Characterization of a Psychoacoustic Listening Facility\n",
      "Numerical study on honeycomb membrane-type acoustic metamaterial with added mass\n",
      "https://www.researchgate.net/search.Search.html?query=bee+acoustic&type=publication&subfilter%5Bfulltext%5D=ft&limit=10&offset=820\n",
      "Performance Analysis of Acoustic Liner with Fine-Perforated-Film by Numerical Simulation Using Impulse Response Method\n",
      "Biotic sound SNR influence analysis on acoustic indices\n",
      "Vibrational Effects on the Acoustic Performance of Multi-Layered Micro-Perforated Metamaterials\n",
      "SCRAPS: Speech Contrastive Representations of Acoustic and Phonetic Spaces\n",
      "Prevalence of Deformed wing virus and Chronic bee paralysis virus in Honey Bee Colonies of Bingöl province, TurkeyTürkiye’nin Bingöl ili Bal Arı Kolonilerinde Deforme kanat virüsü ve Kronik arı felci virüsü’nün Prevalansı\n",
      "Interface transmittance and interface waves in acoustic Willis media\n",
      "Diet and pheromones interact to shape honey bee (Apis mellifera) worker physiology\n",
      "Antioxidant Properties of Bee Products Derived from Medicinal Plants as Beekeeping Sources\n",
      "Survey of bee friendly flowering plants and bee-plant interaction in an urban green space in Bengaluru, India\n",
      "Canopy cover and seasonality are associated with variation in native bee assemblages across a mixed pine‐juniper woodland\n",
      "https://www.researchgate.net/search.Search.html?query=bee+acoustic&type=publication&subfilter%5Bfulltext%5D=ft&limit=10&offset=830\n",
      "Monofloral Corn Poppy Bee-Collected Pollen-A Detailed Insight into Its Phytochemical Composition and Antioxidant Properties\n",
      "Treatment of sinus headache using a device that combines acoustic vibration with oscillating expiratory pressure\n",
      "A 2022 survey for the Moss Carder Bee Bombus muscorum in the Saltfleet area, Lincolnshire\n",
      "Toxicity of Coumaphos Residues in Beeswax Foundation to the Honey Bee Brood\n",
      "Topological bound state in the continuum induced unidirectional acoustic perfect absorption\n",
      "Positive effects of low grazing intensity on East African bee assemblages mediated by increases in floral resources\n",
      "Identification of Discriminative Acoustic Dimensions in Stereo, Surround and 3D Music Reproduction\n",
      "Flight activity of bee colonies at Acer spp. bee pollen collection\n",
      "A Comprehensive Analysis of PAPR Reduction in Scrambled UFMC and OFDM Using Artificial Bee Colony Algorithm for 5G Communications\n",
      "Evolution Law of Acoustic–Thermal Effect of Freeze–Thaw Sandstone Failure Based on Coupling of Multivariate Monitoring Information\n",
      "https://www.researchgate.net/search.Search.html?query=bee+acoustic&type=publication&subfilter%5Bfulltext%5D=ft&limit=10&offset=840\n",
      "Numerical studies on small rotor configurations with validation using acoustic wind tunnel data\n",
      "Bradykinin Potentiating Factor from Egyptian Honey Bee Venom Fraction: A Potential Therapeutic Agent for Type 1 Diabetes\n",
      "The Revised EFSA Bee Guidance in Practice: An Insecticide Case Study\n",
      "Intra‐seasonal and daily variations in nectar availability affect bee assemblage in a monodominant afforested Brazilian Cerrado\n",
      "Micro”bee”ota: Honey Bee Normal Microbiota as a Part of Superorganism\n",
      "Wieringa Surface: The Implementation of Aperiodicity into Architectural Acoustics\n"
     ]
    },
    {
     "name": "stdout",
     "output_type": "stream",
     "text": [
      "Разходите във връзка с производството на пчелни продукти -финансово и управленско счетоводно третиране The costs of the production of bee products -financial and management accounting treatment\n",
      "The reliability of honey bee density estimates from trapped drones\n",
      "Current Knowledge on Bee Innate Immunity Based on Genomics and Transcriptomics\n",
      "High-throughput fabrication of cell spheroids with 3D acoustic assembly devices\n",
      "https://www.researchgate.net/search.Search.html?query=bee+acoustic&type=publication&subfilter%5Bfulltext%5D=ft&limit=10&offset=850\n",
      "Bee species diversity and nesting sites in cultivated savannah, northern Zimbabwe\n",
      "Increased Efficiency of the Artificial Bee Colony Algorithm Using the Pheromone Technique\n",
      "Research and Implementation on a Real-time OSDM MODEM for Underwater Acoustic Communications\n",
      "A noise-robust acoustic method for recognition of foraging activities of grazing cattle\n",
      "Hybrid Machine Learning Framework for Multistage Parkinson’s Disease Classification Using Acoustic Features of Sustained Korean Vowels\n",
      "Investigation on New Mel Frequency Cepstral Coefficients Features and Hyper-parameters Tuning Technique for Bee Sound Recognition\n",
      "Larval Exposure to Parasitic Varroa destructor Mites Triggers Specific Immune Responses in Different Honey Bee Castes and Species\n",
      "Acoustic Scene Clustering Using Joint Optimization of Deep Embedding Learning and Clustering Iteration\n",
      "Molecular genetic diversity and population structure of Iranian honey bee (Apis mellifera meda) populations: implications for breeding and conservation\n",
      "MRI brain segmentation based on improved global best-guided artificial bee colony\n",
      "https://www.researchgate.net/search.Search.html?query=bee+acoustic&type=publication&subfilter%5Bfulltext%5D=ft&limit=10&offset=860\n",
      "Practical Applications of Genomics in Managing Honey bee Health\n",
      "Remote Sensing and Bee Flora Inventory in a Caatinga Area in Northeast Brazil\n",
      "Honey bee functional genomics using symbiont-mediated RNAi\n",
      "Subwavelength focusing and steering of spoof acoustic surface waves with aperiodic waveguide arrays\n",
      "The Formal Model for the solitary bee Osmia bicornis L. agent‑based model\n",
      "Honey bee death from aerosols inadvertently produced from propelled aerial dispersal of a solid ant bait\n",
      "Bee Propolis, Bee Bread, and Royal Jelly: Proximate Analysis, Fatty Acid Composition, Nutritional Quality, and Anti-Amylase Activity\n",
      "Research of the utilization efficiency of non-flood season flood resources by artificial bee colony algorithm based on multi-strategy hybrid search\n",
      "Integrating laboratory acoustic measurements, deep neural networks, and micro-CT imaging for characterizing rock brittle deformation\n",
      "Assessment of Bioactive Compounds under Simulated Gastrointestinal Digestion of Bee Pollen and Bee Bread: Bioaccessibility and Antioxidant Activity\n",
      "https://www.researchgate.net/search.Search.html?query=bee+acoustic&type=publication&subfilter%5Bfulltext%5D=ft&limit=10&offset=870\n",
      "Honey Bee Products: Preclinical and Clinical Studies of Their Anti-inflammatory and Immunomodulatory Properties\n",
      "Journal of Diseases and Medicinal Plants Ethnobotanical Investigation of Traditional Medicinal Plants Used to Protect Honey Bee Pests and Predators\n",
      "Effect of ultrasound-enhanced bee venom on selected post inguinal hernioplasty complications: a single-blind randomized controlled trial\n",
      "The anti-allergic potential of stingless bee honey from different botanical sources via modulation of mast cell degranulation\n",
      "Uncertainty-Aware Acoustic Localization and Mapping for Underwater Robots\n",
      "Acoustic Characterization for The Feeding Activities of Haliotis discus Hannai\n",
      "Active Acoustic Sensing for “Hearing” Temperature Under Acoustic Interference\n",
      "Adhesive-Free Zinc Oxide Polymer Transducers for Acoustic Microscopy\n",
      "Bee Bread as a Promising Source of Bioactive Molecules and Functional Properties: An Up-To-Date Review\n",
      "Commercial Optical and Acoustic Sensor Performances under Varying Turbidity, Illumination, and Target Distances\n",
      "https://www.researchgate.net/search.Search.html?query=bee+acoustic&type=publication&subfilter%5Bfulltext%5D=ft&limit=10&offset=880\n",
      "DERLEME / REVIEW ARI POLENİ PROTEİNLERİ VE FONKSİYONEL ÖZELLİKLERİ Bee Pollen Proteins and Their Functional Properties Zeynep BAKKALOĞLU\n",
      "The waveform comparison of three common-used fractional viscous acoustic wave equations\n",
      "Diversity of Bee Flora and Preparation of Floral Calendar for Scientific Beekeeping by Apiarist in Northern Hills Zone of Chhattisgarh, India\n",
      "Study on a Hexagonal Acoustic Metamaterial Cell of Multiple Parallel-Connection Resonators with Tunable Perforating Rate\n",
      "Large amplitude dust-acoustic solitary waves and double layers in nonthermal warm complex plasmas\n",
      "Shelf Fluvial Paleo Structures: Seabed Seismic Acoustic View\n",
      "Modelling the Symmetric Wave Structures of the Ion-Acoustic for the BBMPB Equation in the Fluid Ions Using Hirota Bilinear Technique\n",
      "Studies of Angular Resolution for Acoustic Arc Arrays\n",
      "Diet Supplementation Helps Honey Bee Colonies in Combat Infections by Enhancing their Hygienic Behaviour\n",
      "Characteristics of honey bee physiological proteins extracted from faba bean ( Vicia faba L.) honey\n",
      "https://www.researchgate.net/search.Search.html?query=bee+acoustic&type=publication&subfilter%5Bfulltext%5D=ft&limit=10&offset=890\n",
      "Hybrid Indoor Positioning System Based on Acoustic Ranging and Wi-Fi Fingerprinting under NLOS Environments\n",
      "Reducing insurgency in South-south Nigeria: Youth participation in bee farming for economic success\n",
      "A hydro-acoustic mode decomposition method for velocity and pressure field and application to a subsonic turbulent jet\n",
      "Acoustic Field Prediction Method and Simulation Research Based on Acoustic Field Geometric Average Theory\n",
      "Research on Discrete Artificial Bee Colony Cache Strategy of UAV Edge Network\n",
      "All together now: Geographically coordinated miticide treatment benefits honey bee health\n",
      "Occurrence of Honey Bee (Apis mellifera L.) Pathogens in Wild Pollinators in Northern Italy\n",
      "On the Evidence of the European Bee-Eater (Merops apiaster) as a Predator of the Yellow-Legged Hornet (Vespa velutina) and its Potential Contribution as a Biological Control Agent\n",
      "Acoustic Experimental Technology for Aircraft Nacelle Liner\n",
      "Flocculus Herniation into the Internal Acoustic Canal in Incomplete Partition Type I: A Case Report\n",
      "https://www.researchgate.net/search.Search.html?query=bee+acoustic&type=publication&subfilter%5Bfulltext%5D=ft&limit=10&offset=900\n",
      "A Multi-Stage Acoustic Echo Cancellation Model Based on Adaptive Filters and Deep Neural Networks\n",
      "Bee and Wasp Allergy For Patients\n",
      "Methodological Foundations Protective Structures Development for Shielding Electromagnetic and Acoustic Fields\n",
      "Optimization of Acoustic Performance of EPDM-based Foams Using Taguchi Design of Experiments: The Appropriate Content of Additives\n",
      "Distributed acoustic sensing of ocean-bottom seismo-acoustics and distant storms: A case study from Svalbard, Norway\n",
      "Estimating Social Background Profiling of Indian Speakers by Acoustic Speech Features\n",
      "Analysis of Helmholtz resonator wall elasticity effects on the performance of periodic acoustic metamaterial\n",
      "Acoustic Wave Reflection in Water Affects Underwater Wireless Sensor Networks\n",
      "Effectiveness of acoustic indices as indicators of vertebrate biodiversity\n",
      "Acoustic modelling of Over-the-Rotor liners\n",
      "https://www.researchgate.net/search.Search.html?query=bee+acoustic&type=publication&subfilter%5Bfulltext%5D=ft&limit=10&offset=910\n",
      "Effect of Adding Ginseng and Bee Pollen on Productive Performance And Immune Response of Aged Sinai Chickens under Summer Condition\n",
      "Honey Bee and Bumble Bee Antiviral Defense\n",
      "NUMERICAL AND EXPERIMENTAL INVESTIGATIONS ON THE ACOUSTIC CHARACTERISTICS OF A SINGLE-STAGE CENTRIFUGAL PUMP\n",
      "Detailed chemical analysis of honey bee (Apis mellifera) worker brood volatile profile from egg to emergence\n",
      "An evaluation of the chemical content and microbiological contamination of Anatolian bee venom\n",
      "Acoustic analysis and video-stroboscopic evaluation of voice disorders\n",
      "A Review on Recent Progress of Stingless Bee Honey and Its Hydrogel-Based Compound for Wound Care Management\n",
      "The effects of urban land use gradients on wild bee microbiomes\n",
      "Microbiome assembly and maintenance across the lifespan of bumble bee workers\n"
     ]
    },
    {
     "name": "stdout",
     "output_type": "stream",
     "text": [
      "Bee Venom Induces Acute Inflammation through a H2O2-Mediated System That Utilizes Superoxide Dismutase\n",
      "https://www.researchgate.net/search.Search.html?query=bee+acoustic&type=publication&subfilter%5Bfulltext%5D=ft&limit=10&offset=920\n",
      "The local environmental factors impact the infestation of bee colonies by mite Varroa destructor\n",
      "Seven new records of bee flies (Bombyliidae, Diptera) from Saudi Arabia\n",
      "A Machine Learning Approach to Qualitatively Evaluate Different Granulation Phases by Acoustic Emissions\n",
      "A Method for Degenerate Primer Design Based on Artificial Bee Colony Algorithm\n",
      "Investigating overlapping gestures in acoustic signals: The case of fricatives and sonorants in clusters\n",
      "Stingless bee propolis, metformin, and their combination alleviate diabetic cardiomyopathy\n",
      "Flexible control of vocal timing in bats enables escape from acoustic interference\n",
      "Observation of thermal acoustic modes of a droplet coupled to an optomechanical sensor\n",
      "Chemical Profile and Antioxidant Capacity of Propolis from Tetragonula, Lepidotrigona, Lisotrigona and Homotrigona Stingless Bee Species in Vietnam\n",
      "Early Detection of Coal Spontaneous Combustion by Complex Acoustic Waves in a Concealed Fire Source\n",
      "https://www.researchgate.net/search.Search.html?query=bee+acoustic&type=publication&subfilter%5Bfulltext%5D=ft&limit=10&offset=930\n",
      "Winter mortality, diversification, and self-sufficiency affect honey bee (Hymenoptera: Apidae) colony profit in Canada: a model of commercial Alberta beekeepers\n",
      "Dose Images Reconstruction Based on X-ray-Induced Acoustic Computed Tomography\n",
      "A Bi-Directional Acoustic Micropump Driven by Oscillating Sharp-Edge Structures\n",
      "Experimental characterization of three-band braid relations in non-Hermitian acoustic lattices\n",
      "Understanding effects of floral products on bee parasites: Mechanisms, synergism, and ecological complexity\n",
      "Room Acoustics - state of things\n",
      "Investigating Separation Efficiency of Oil-in-Water Emulsions Subjected to an Acoustic Field\n",
      "The practice of bee colonies’ migration, aiming the improvement of their production performance\n",
      "Features of microsporidia Nosema apis and Nosema ceranae (Nosema species) development of winter bee (Apis mellifera L.) generation\n",
      "Seasonal bee communities vary in their responses to local and landscape scales: implication for land managers\n",
      "https://www.researchgate.net/search.Search.html?query=bee+acoustic&type=publication&subfilter%5Bfulltext%5D=ft&limit=10&offset=940\n",
      "Study on the Acoustic Emission Characteristics and Failure Precursors of Water-Rich Frozen Sandstone under Different Lateral Unloading Rates\n",
      "Recent Progress in Polymeric Flexible Surface Acoustic Wave Devices: Materials, Processing, and Applications\n",
      "An Acoustic Camera for Use on UAVs\n",
      "Performance of a MIMO-OFDM-Based Opto-Acoustic Modem for High Data Rate Underwater Wireless Communication (UWC) System\n",
      "Statistical study to investigate the effect of climate fluctuations and contamination of bee products with pesticides on the change in beekeeping in\n",
      "Methods of the investigation of bee pollen and bee bread\n",
      "Advanced Diagnostic Approach for High-Voltage Insulators: Analyzing Partial Discharges through Zero-Crossing Rate and Fundamental Frequency Estimation of Acoustic Raw Data\n",
      "In Lab Demonstration of an Underwater Acoustic Spiral Source\n",
      "In-depth investigation of microRNA-mediated cross-kingdom regulation between Asian honey bee and microsporidian\n",
      "Evolutionary and Observational Properties of Red Giant Acoustic Glitch Signatures\n",
      "https://www.researchgate.net/search.Search.html?query=bee+acoustic&type=publication&subfilter%5Bfulltext%5D=ft&limit=10&offset=950\n",
      "Frontiers in Marine Science - > Special Issue->Call For Papers -> Ocean Observation based on Underwater Acoustic Technology-Volume II (2023)\n",
      "Spread and Distribution of the Naturalized Orchid Bee Euglossa dilemma in Florida\n",
      "Acoustic Soft Tactile Skin (AST Skin)\n",
      "Periodic Acoustic Structure Design Based on the Second-Order Butterworth Acoustic Filter\n",
      "Chlorella-supplemented diet improves the health of honey bee (Apis mellifera)\n",
      "The effect of the drug \"Cobazin\" on the productive indicators of bee colonies\n",
      "The Insecticide Imidacloprid Decreases Nannotrigona Stingless Bee Survival and Food Consumption and Modulates the Expression of Detoxification and Immune-Related Genes\n",
      "Production Performance, Defensive, Hygienic, Swarming, and Foraging Behavior of Apis mellifera scutellate bee race\n",
      "Aptness of diverse queen cup materials on larval graft acceptance and queen bee emergence in Apis mellifera\n",
      "Virus transmission via honey bee prey and potential impact on cocoon-building in labyrinth spiders (Agelena labyrinthica)\n",
      "https://www.researchgate.net/search.Search.html?query=bee+acoustic&type=publication&subfilter%5Bfulltext%5D=ft&limit=10&offset=960\n",
      "Parametric Optimization of LPG Refrigeration System Using Artificial Bee Colony Algorithm\n",
      "Biotechnological Processes Simulating the Natural Fermentation Process of Bee Bread and Therapeutic Properties—An Overview\n",
      "Topical bee venom nanoemulsion in collagen-induced arthritis model: effects on biochemical and hematological parameters\n",
      "Learning an Interpretable End-to-End Network for Real-Time Acoustic Beamforming\n",
      "Bee Bread Production—A New Source of Income for Beekeeping Farms?\n",
      "Study of hybrid passive-active micromixers under an acoustic field\n",
      "Acoustic Emission Monitoring of Fatigue Crack Growth in Hadfield Steel\n",
      "Fungicide Exposure in Honey Bee Hives Varies By Time, Worker Role, and Proximity to Orchards in Spring\n",
      "THE DRONE AND THE BEE: MAN-WOMAN RELATIONSHIP IN G. B. SHAW’S MAN AND SUPERMAN\n",
      "Transcriptome-Wide Characterization of piRNAs during the Developmental Process of European Honey-Bee Larval Guts\n",
      "https://www.researchgate.net/search.Search.html?query=bee+acoustic&type=publication&subfilter%5Bfulltext%5D=ft&limit=10&offset=970\n",
      "The Importance of Forests in Bumble Bee Biology and Conservation\n",
      "Laser Self-Mixing Interference: Optical Fiber Coil Sensors for Acoustic Emission Detection\n",
      "Toxicity of Insecticides on Indian Honey Bee Apis cerana indica F. and Stingless Bee Tetragonula iridipennis S. in Cashew\n",
      "Evaluation of the Pollination Ecosystem Service of the Honey Bee (Apis mellifera) Based on a Beekeeping Model in Hungary\n",
      "STUDY THE EFFECT OF BEE ATTRACTANTS ON FORAGING ACTIVITIES ON NIGER (Guizotia abyssinica L. f. Cass.) Crop\n",
      "Honey bee viruses are highly prevalent but at low intensities in wild pollinators of cucurbit agroecosystems\n",
      "Stacking Ensemble Learning for the Modulation Recognition of Underwater Acoustic Communication Signals\n",
      "Evaluation of honey bee larvae data: sensitivity to PPPs and impact analysis of EFSA Bee GD\n",
      "Sound Waveguiding by Spinning: An Avenue toward Unidirectional Acoustic Spinning Fibers\n",
      "MERT: Acoustic Music Understanding Model with Large-Scale Self-supervised Training\n",
      "https://www.researchgate.net/search.Search.html?query=bee+acoustic&type=publication&subfilter%5Bfulltext%5D=ft&limit=10&offset=980\n",
      "Optimal kinematics of a bee tongue for viscous fluid transport\n",
      "Towards Mixed-Fidelity Aero-Structural-Acoustic Optimization for Urban Air Mobility Vehicle Design\n",
      "Acoustic Levitation assisted Contactless Printing of Microdroplets for Biomedical Applications\n",
      "Laboratory Risk Assessment of Three Entomopathogenic Fungi Used for Pest Control toward Social Bee Pollinators\n",
      "Development and Experimental Evaluation of Visual-acoustic Navigation for Safe Maneuvering of Unmanned Surface Vehicles in Harbor and Waterway Areas\n",
      "Analysis of the Gear Pump’s Acoustic Properties Taking into Account the Classification of Induction Trees\n",
      "A Methodological Literature Review of Acoustic Wildlife Monitoring Using Artificial Intelligence Tools and Techniques\n",
      "SNR Model of Optical Fiber Acoustic Sensing System Based on F-P Structure\n",
      "Determination of the Carbohydrate Profile and Invertase Activity of Adulterated Honeys after Bee Feeding\n",
      "How city traits affect taxonomic and functional diversity of urban wild bee communities: insights from a worldwide analysis\n",
      "https://www.researchgate.net/search.Search.html?query=bee+acoustic&type=publication&subfilter%5Bfulltext%5D=ft&limit=10&offset=990\n",
      "The importance of wild bee communities as urban pollinators and the influence of honeybee hive density\n"
     ]
    },
    {
     "name": "stdout",
     "output_type": "stream",
     "text": [
      "3D underwater acoustic Luneburg lens based on gradient face-centered-cubic phononic crystals\n",
      "Ultra-broadband illusion acoustics for space and time camouflages\n",
      "Efficacy of Saudi propolis and bee pollen in the reduction of oxidative stress induced with CCl4 in a testis mice model\n",
      "Damage Detection and Optimization of Concrete Structure Based on Acoustic Emission Technology\n",
      "Dialect classification using acoustic and linguistic features in Arabic speech\n",
      "Evaluating the potential for mating control in honey bee breeding in three SE European countries (preliminary results)\n",
      "A brief description on AIR COUPLED ACOUSTIC THERMOGRAPHY (ACAT) INSPECTION TECHNIQUE\n",
      "Genetic Variation in Antimicrobial Activity of Honey Bee (Apis mellifera) Seminal Fluid\n",
      "Bee stimulation to form protein food reserves\n"
     ]
    }
   ],
   "source": [
    "for step in range(770, 1000, 10):\n",
    "    main_url = current_url+ '&limit=10&offset='+ str(step)\n",
    "    driver.get(main_url)\n",
    "    print(main_url)\n",
    "    sleep(randint(10,30))\n",
    "    \n",
    "    #do the same steps\n",
    "    result_items = driver.find_elements(By.CLASS_NAME,'search-box__result-item')\n",
    "    for result in result_items:\n",
    "        #access the inner item for each result\n",
    "        items = result.find_elements(By.CLASS_NAME, 'nova-legacy-v-publication-item__stack-item')\n",
    "\n",
    "        #get the title from the first tile\n",
    "        title = items[0].find_element(By.XPATH,'div//a').text \n",
    "        print(title)\n",
    "\n",
    "        #get the url \n",
    "        url = items[0].find_element(By.XPATH,'div//a').get_attribute('href') \n",
    "\n",
    "        #get the left categories \n",
    "        temp_left = items[1].find_elements(By.CLASS_NAME,'nova-legacy-v-publication-item__meta-left')\n",
    "\n",
    "        #since it may have more than one left category, we will iterate over it\n",
    "        if len(temp_left) >1:\n",
    "            left_list = []\n",
    "            for i in range(len(temp_left)):\n",
    "                left_list.append(temp_left[i].text)\n",
    "            left = ';'.join(left_list)\n",
    "        else: \n",
    "            left = temp_left[0].text\n",
    "\n",
    "        #get the date \n",
    "        temp_right = items[1].find_elements(By.CLASS_NAME,'nova-legacy-v-publication-item__meta-right')\n",
    "        date = temp_right[0].find_elements(By.XPATH, 'ul//li')[0].text\n",
    "\n",
    "        #get the right category\n",
    "        cat = temp_right[0].find_elements(By.XPATH, 'ul//li')\n",
    "        if len(cat)==1:\n",
    "            right = ''\n",
    "        else: \n",
    "            right_list = []\n",
    "            for i in range(1,len(cat)):\n",
    "                right_list.append(cat[i].text)\n",
    "            right = ';'.join(right_list)\n",
    "\n",
    "        #get the authors \n",
    "        authors_list = items[2].find_elements(By.XPATH,'ul//li//a//span')\n",
    "        if len(authors_list) >1:\n",
    "            temp_authors_list = []\n",
    "            for author in authors_list:\n",
    "                if len(author.text)>0:\n",
    "                    temp_authors_list.append(author.text)\n",
    "            author = ';'.join(temp_authors_list)\n",
    "        else: \n",
    "            try: \n",
    "                author = authors_list[0].text\n",
    "            except: \n",
    "                author = ''\n",
    "\n",
    "        #get the abstract \n",
    "        abstract = items[3].text\n",
    "\n",
    "        #get the footer \n",
    "        footer_box = result.find_element(By.CLASS_NAME,'nova-legacy-v-publication-item__footer-metrics')\n",
    "        footer_list = []\n",
    "        footer_items = footer_box.find_elements(By.XPATH,'ul//li')\n",
    "        for f in footer_items: \n",
    "            footer_list.append(f.text)\n",
    "        footer = ';'.join(footer_list)\n",
    "\n",
    "        #download \n",
    "        #click the download button \n",
    "        result.find_elements(By.CLASS_NAME,'nova-legacy-c-button-group__item')[0].click()\n",
    "        #find the file name\n",
    "        sleep(randint(30,60))\n",
    "        list_of_files = glob.glob('C:\\\\Users\\\\dpanova\\\\Downloads\\\\*')\n",
    "        latest_file = max(list_of_files, key=os.path.getctime)\n",
    "        \n",
    "        \n",
    "        #click 'no thanks' button\n",
    "        try: \n",
    "            buttons = driver.find_elements(By.XPATH, '//button')\n",
    "            for b in buttons: \n",
    "                if b.text == 'No thanks':\n",
    "                    b.click()\n",
    "                    latest_file=None\n",
    "        except: \n",
    "            None \n",
    "            \n",
    "\n",
    "        #append the results to the DF \n",
    "        page_dict = { 'Title':[title],\n",
    "                'URL':[url],\n",
    "                'Authors':[author],\n",
    "                'Date':[date],\n",
    "                'Left Category':[left],\n",
    "                'Right Category':[right],\n",
    "                'Abstract':[abstract],\n",
    "                'Footer':[footer],\n",
    "                     'File':[latest_file]\n",
    "\n",
    "            }\n",
    "        page_df = pd.DataFrame(page_dict)\n",
    "        df = pd.concat([df,page_df],ignore_index=True)\n",
    "\n",
    "#before 930 >> 9,10\n",
    "\n"
   ]
  },
  {
   "cell_type": "code",
   "execution_count": 29,
   "metadata": {},
   "outputs": [
    {
     "data": {
      "text/plain": [
       "960"
      ]
     },
     "execution_count": 29,
     "metadata": {},
     "output_type": "execute_result"
    }
   ],
   "source": [
    "len(df)"
   ]
  },
  {
   "cell_type": "code",
   "execution_count": 31,
   "metadata": {},
   "outputs": [
    {
     "data": {
      "text/plain": [
       "893"
      ]
     },
     "execution_count": 31,
     "metadata": {},
     "output_type": "execute_result"
    }
   ],
   "source": [
    "len(df['Title'].unique())"
   ]
  },
  {
   "cell_type": "code",
   "execution_count": 33,
   "metadata": {},
   "outputs": [],
   "source": [
    "df.to_excel('bee_acoustic_scraped.xlsx',index=False)"
   ]
  },
  {
   "cell_type": "code",
   "execution_count": 32,
   "metadata": {},
   "outputs": [],
   "source": [
    "df.to_csv('bee_acoustic_scraped.csv',index=False)"
   ]
  }
 ],
 "metadata": {
  "kernelspec": {
   "display_name": "Python 3 (ipykernel)",
   "language": "python",
   "name": "python3"
  },
  "language_info": {
   "codemirror_mode": {
    "name": "ipython",
    "version": 3
   },
   "file_extension": ".py",
   "mimetype": "text/x-python",
   "name": "python",
   "nbconvert_exporter": "python",
   "pygments_lexer": "ipython3",
   "version": "3.10.9"
  }
 },
 "nbformat": 4,
 "nbformat_minor": 4
}
